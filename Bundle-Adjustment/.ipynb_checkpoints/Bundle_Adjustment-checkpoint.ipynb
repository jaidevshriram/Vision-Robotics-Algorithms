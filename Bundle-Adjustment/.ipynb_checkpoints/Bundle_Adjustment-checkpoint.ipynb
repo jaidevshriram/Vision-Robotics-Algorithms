{
 "cells": [
  {
   "cell_type": "markdown",
   "metadata": {},
   "source": [
    "# Bundle Adjustment using scipy\n",
    "\n",
    "### Project 2 - Part B:\n",
    "Project 2 - Part B is at the end of this notebook. Submission details are also mentioned at the end itself.\n",
    "\n",
    "Credits: [scipy-cookbook](https://github.com/scipy/scipy-cookbook/blob/master/ipython/bundle_adjustment.ipynb)\n",
    "\n",
    "This notebook builds on the above scipy tutorial. I have made it more elaborate and explained the code in greater detail, in line with [the theory you've learned in the MR class](https://www.notion.so/saishubodh/Stereo-Structure-from-Motion-9fdd81e4194f4803ac9ba7552df56470#6d310735014a429ea623883d607fa978)."
   ]
  },
  {
   "cell_type": "markdown",
   "metadata": {},
   "source": [
    "### Task\n",
    "We have a set of points in real world defined by their coordinates $(X, Y, Z)$ in some apriori chosen \"world coordinate frame\". We photograph these points by different cameras, which are characterized by their orientation and translation relative to the world coordinate frame and also by focal length and two radial distortion parameters (9 parameters in total). Then we precicely measure 2-D coordinates $(x, y)$ of the points projected by the cameras on images. Our task is to refine 3-D coordinates of original points as well as camera parameters, by minimizing the sum of squares of reprojecting errors."
   ]
  },
  {
   "cell_type": "markdown",
   "metadata": {},
   "source": [
    "Now let's start solving some real bundle adjusment problem. We'll take a problem from http://grail.cs.washington.edu/projects/bal/."
   ]
  },
  {
   "cell_type": "code",
   "execution_count": 1,
   "metadata": {},
   "outputs": [],
   "source": [
    "from __future__ import print_function"
   ]
  },
  {
   "cell_type": "code",
   "execution_count": 3,
   "metadata": {},
   "outputs": [],
   "source": [
    "import urllib\n",
    "import bz2\n",
    "import os\n",
    "import numpy as np\n",
    "import open3d as o3d"
   ]
  },
  {
   "cell_type": "markdown",
   "metadata": {},
   "source": [
    "First download the data file:"
   ]
  },
  {
   "cell_type": "code",
   "execution_count": 4,
   "metadata": {},
   "outputs": [],
   "source": [
    "BASE_URL = \"http://grail.cs.washington.edu/projects/bal/data/\"\n",
    "\n",
    "DATASET_NAME = \"ladybug/\"\n",
    "FILE_NAME = \"problem-49-7776-pre.txt.bz2\"\n",
    "# FILE_NAME_BIG = \"problem-412-52215-pre.txt.bz2\"\n",
    "\n",
    "# DATASET_NAME = \"dubrovnik/\"\n",
    "# FILE_NAME = \"problem-88-64298-pre.txt.bz2\"\n",
    "\n",
    "URL = BASE_URL + DATASET_NAME + FILE_NAME"
   ]
  },
  {
   "cell_type": "code",
   "execution_count": 5,
   "metadata": {},
   "outputs": [],
   "source": [
    "if not os.path.isfile(FILE_NAME):\n",
    "    urllib.request.urlretrieve(URL, FILE_NAME)"
   ]
  },
  {
   "cell_type": "markdown",
   "metadata": {},
   "source": [
    "Now read the data from the file:"
   ]
  },
  {
   "cell_type": "code",
   "execution_count": 6,
   "metadata": {},
   "outputs": [],
   "source": [
    "def read_bal_data(file_name):\n",
    "    with bz2.open(file_name, \"rt\") as file:\n",
    "        n_cameras, n_points, n_observations = map(\n",
    "            int, file.readline().split())\n",
    "\n",
    "        camera_indices = np.empty(n_observations, dtype=int)\n",
    "        point_indices = np.empty(n_observations, dtype=int)\n",
    "        points_2d = np.empty((n_observations, 2))\n",
    "\n",
    "        for i in range(n_observations):\n",
    "            camera_index, point_index, x, y = file.readline().split()\n",
    "            camera_indices[i] = int(camera_index)\n",
    "            point_indices[i] = int(point_index)\n",
    "            points_2d[i] = [float(x), float(y)]\n",
    "\n",
    "        camera_params = np.empty(n_cameras * 9)\n",
    "        for i in range(n_cameras * 9):\n",
    "            camera_params[i] = float(file.readline())\n",
    "        camera_params = camera_params.reshape((n_cameras, -1))\n",
    "\n",
    "        points_3d = np.empty(n_points * 3)\n",
    "        for i in range(n_points * 3):\n",
    "            points_3d[i] = float(file.readline())\n",
    "        points_3d = points_3d.reshape((n_points, -1))\n",
    "\n",
    "    return camera_params, points_3d, camera_indices, point_indices, points_2d"
   ]
  },
  {
   "cell_type": "code",
   "execution_count": 7,
   "metadata": {},
   "outputs": [],
   "source": [
    "camera_params, points_3d, camera_indices, point_indices, points_2d = read_bal_data(FILE_NAME)"
   ]
  },
  {
   "cell_type": "code",
   "execution_count": 8,
   "metadata": {
    "scrolled": true
   },
   "outputs": [
    {
     "name": "stdout",
     "output_type": "stream",
     "text": [
      "camera_params: (49, 9);\n",
      "points_3d: (7776, 3);\n",
      "camera_indices: (31843,); \n",
      "point_indices: (31843,); \n",
      "points_2d: (31843, 2)\n"
     ]
    }
   ],
   "source": [
    "print(f\"camera_params: {camera_params.shape};\\npoints_3d: {points_3d.shape};\\n\"\n",
    "        f\"camera_indices: {camera_indices.shape}; \\npoint_indices: {point_indices.shape}; \\n\"\n",
    "        f\"points_2d: {points_2d.shape}\")"
   ]
  },
  {
   "cell_type": "markdown",
   "metadata": {},
   "source": [
    "Here we have numpy arrays:\n",
    "\n",
    "1. `camera_params` with shape `(n_cameras, 9)` contains initial estimates of parameters for all cameras. First 3 components in each row form a **rotation vector**, next 3 components form a translation vector, then a focal distance and two distortion parameters.\n",
    "2. `points_3d` with shape `(n_points, 3)` contains initial estimates of point coordinates in the world frame.\n",
    "3. `points_2d` with shape `(n_observations, 2)` contains measured 2-D coordinates of points projected on images in all the observations.\n",
    "4. `camera_ind` with shape `(n_observations,)` gives the index of the camera (from 0 to `n_cameras - 1`) associated with a particular observation.   \n",
    "    - TODO-for-students: Basics - How do we know this (`camera_ind`) information in practical setting? Explain.     \n",
    "5. `point_ind` with shape `(n_observations,)` contains indices of 3D points (from 0 to `n_points - 1`) involved in each observation.\n",
    "    - TODO-for-students: Basics - How do we know this (`point_ind`) information in practical setting? Explain.\n"
   ]
  },
  {
   "cell_type": "code",
   "execution_count": 10,
   "metadata": {
    "scrolled": false
   },
   "outputs": [
    {
     "name": "stdout",
     "output_type": "stream",
     "text": [
      "[0 0 0 0 0 0 1 1 1 1 1 1 1 2 2 2 2 2 2 2 2 2 2 2 2 2 2 2 2 2] \n",
      " [ 0  1  3 26 29 36  0  1  4  8 20 38 47  0  1  2  3  4  5  6  7  8  9 10\n",
      " 11 12 13 15 17 20]\n"
     ]
    }
   ],
   "source": [
    "print(point_indices[:30],\"\\n\",camera_indices[:30])"
   ]
  },
  {
   "cell_type": "code",
   "execution_count": 11,
   "metadata": {
    "scrolled": true
   },
   "outputs": [
    {
     "name": "stdout",
     "output_type": "stream",
     "text": [
      "n_cameras: 49\n",
      "n_points: 7776\n",
      "Total number of parameters to estimate: 23769\n",
      "Total number of residuals: 63686\n",
      "\n"
     ]
    }
   ],
   "source": [
    "n_cameras = camera_params.shape[0]\n",
    "n_points = points_3d.shape[0]\n",
    "\n",
    "n = 9 * n_cameras + 3 * n_points\n",
    "m = 2 * points_2d.shape[0]\n",
    "\n",
    "print(\"n_cameras: {}\".format(n_cameras))\n",
    "print(\"n_points: {}\".format(n_points))\n",
    "print(\"Total number of parameters to estimate: {}\".format(n))\n",
    "print(\"Total number of residuals: {}\".format(m))\n",
    "print()"
   ]
  },
  {
   "cell_type": "markdown",
   "metadata": {},
   "source": [
    "We chose a relatively small problem to reduce computation time, but scipy's algorithm is capable of solving much larger problems, although required time will grow proportionally."
   ]
  },
  {
   "cell_type": "markdown",
   "metadata": {},
   "source": [
    "Now define the function which returns a vector of residuals. We use numpy vectorized computations:"
   ]
  },
  {
   "cell_type": "code",
   "execution_count": 12,
   "metadata": {},
   "outputs": [],
   "source": [
    "def rotate(points, rot_vecs):\n",
    "    \"\"\"Rotate points by given rotation vectors.\n",
    "    \n",
    "    Rodrigues' rotation formula is used.\n",
    "    \"\"\"\n",
    "    theta = np.linalg.norm(rot_vecs, axis=1)[:, np.newaxis] #np.newaxis converts this into a column vector.\n",
    "    with np.errstate(invalid='ignore'):\n",
    "        v = rot_vecs / theta\n",
    "        v = np.nan_to_num(v)\n",
    "    dot = np.sum(points * v, axis=1)[:, np.newaxis]\n",
    "    cos_theta = np.cos(theta)\n",
    "    sin_theta = np.sin(theta)\n",
    "\n",
    "    return (cos_theta * points) + ((1 - cos_theta) * v * dot) + (sin_theta * np.cross(v, points))"
   ]
  },
  {
   "cell_type": "markdown",
   "metadata": {},
   "source": [
    "### A short review on Transformations\n",
    "\n",
    "Rodrigues Formula: $$\\mathbf{R}=\\cos \\theta \\mathbf{I}+(1-\\cos \\theta) \\mathbf{n n}^{\\mathrm{T}}+\\sin \\theta \\mathbf{n}^{\\wedge}$$\n",
    "If described by a rotation vector, assuming that the rotation axis is a unit length vector $\\mathbf{n}$ and the angle is $\\theta$, then the vector $\\theta \\mathbf{n}$ can also describe this rotation. Here, rot_vecs = $\\theta \\mathbf{n}$."
   ]
  },
  {
   "cell_type": "code",
   "execution_count": 18,
   "metadata": {
    "scrolled": false
   },
   "outputs": [
    {
     "data": {
      "text/plain": [
       "(7776, 2)"
      ]
     },
     "execution_count": 18,
     "metadata": {},
     "output_type": "execute_result"
    }
   ],
   "source": [
    "points_pro = points_3d[:, :2] / points_3d[:, 2, np.newaxis]\n",
    "points_pro.shape"
   ]
  },
  {
   "cell_type": "code",
   "execution_count": 19,
   "metadata": {},
   "outputs": [],
   "source": [
    "def project(points, camera_params):\n",
    "    \"\"\"Convert 3-D points to 2-D by projecting onto images.\"\"\"\n",
    "    points_proj = rotate(points, camera_params[:, :3])\n",
    "    points_proj += camera_params[:, 3:6]\n",
    "\n",
    "#     points += camera_params[:, 3:6]\n",
    "#     points_proj = rotate(points, camera_params[:, :3])\n",
    "\n",
    "    # TODO-for-students: Transformations - project() function:\n",
    "    # In the project() function, would it make any difference if I do translate first, then rotate? Why/why not?\n",
    "    points_proj = -points_proj[:, :2] / points_proj[:, 2, np.newaxis]\n",
    "    f = camera_params[:, 6]\n",
    "    k1 = camera_params[:, 7]\n",
    "    k2 = camera_params[:, 8]\n",
    "    n = np.sum(points_proj**2, axis=1) #n = (r_c)^2\n",
    "    r = 1 + k1 * n + k2 * n**2\n",
    "    points_proj *= (r * f)[:, np.newaxis]\n",
    "    return points_proj"
   ]
  },
  {
   "cell_type": "markdown",
   "metadata": {},
   "source": [
    "## A short review on camera modelling & radial distortion\n",
    "\n",
    "\n",
    "\n",
    "- Each pixel moves radially away from (barrel) or towards (pincushion) the image center (c).\n",
    "- As a function of distance from $c: r_{c}^{2}=x_{c}^{2}+y_{c}^{2}$.\n",
    "- In code, $n = r_{c}^{2}$\n",
    "- The shift $\\gamma$ can be modelled as: $\\gamma=1+k_{1} r_{c}^{2}+k_{2} r_{c}^{4}$ where ${k}_{1}$ and ${k}_{2}$ are radial distortion parameters.\n",
    "- The modified co-ordinates are:\n",
    "\n",
    "$$\\begin{array}{l}\n",
    "\\hat{x}_{c}=\\gamma x_{c} \\\\\n",
    "\\hat{y}_{c}=\\gamma y_{c}\n",
    "\\end{array} \n",
    "$$\n",
    "\n",
    "- **This is applied before the focal-length multiplier and center shift are applied**: Meaning before $K$ matrix is even applied. But how do we exactly do that?\n",
    "\n",
    "    $$\\mathbf{K}=\\left[\\begin{array}{ccc}\\alpha_{x} & 0 & x_{0} \\\\0 & \\alpha_{y} & y_{0} \\\\0 & 0 & 1\\end{array}\\right] ; \\qquad      \\lambda {p} = \\mathrm{x} =K[R \\quad t] \\mathrm{X}$$\n",
    "\n",
    "    $$x_{final} = \\gamma \\left(\\frac{f_0X}{Z}+c_x \\right)\n",
    "     \\qquad \\color{red} \\bigotimes \\textbf{wrong}$$\n",
    "\n",
    "    $$x_{final} =  \\left(f_0 \\left(\\gamma\\frac{X}{Z} \\right)+c_x \\right)\n",
    "     \\qquad \\color{surd} \\checkmark \\textbf{correct}$$"
   ]
  },
  {
   "cell_type": "markdown",
   "metadata": {},
   "source": [
    "### Summing it up\n",
    "Let $\\pmb{P} = (X, Y, Z)^T$ - a radius-vector of a point, $\\pmb{R}$ - a rotation matrix of a camera, $\\pmb{t}$ - a translation vector of a camera, $f$ - its focal distance, $k_1, k_2$ - its distortion parameters. Then the reprojecting is done as follows:\n",
    "\n",
    "\\begin{align}\n",
    "\\pmb{Q} = \\pmb{R} \\pmb{P} + \\pmb{t} \\\\\n",
    "\\pmb{q} = -\\begin{pmatrix} Q_x / Q_z \\\\ Q_y / Q_z \\end{pmatrix} \\\\\n",
    "\\pmb{p} = f (1 + k_1 \\lVert \\pmb{q} \\rVert^2 + k_2 \\lVert \\pmb{q} \\rVert^4) \\pmb{q}\n",
    "\\end{align}\n",
    "The resulting vector $\\pmb{p}=(x, y)^T$ contains image coordinates of the original point.\n",
    "![radial_distortion_1.png](./misc/radial_distortion_1.png) \n",
    "![radial_distortion_2.png](./misc/radial_distortion_2.png)"
   ]
  },
  {
   "cell_type": "code",
   "execution_count": 20,
   "metadata": {},
   "outputs": [],
   "source": [
    "def fun(params, n_cameras, n_points, camera_indices, point_indices, points_2d):\n",
    "    \"\"\"Compute residuals.\n",
    "    \n",
    "    `params` contains camera parameters and 3-D coordinates.\n",
    "    \"\"\"\n",
    "    camera_params = params[:n_cameras * 9].reshape((n_cameras, 9))\n",
    "    points_3d = params[n_cameras * 9:].reshape((n_points, 3))\n",
    "    points_proj = project(points_3d[point_indices], camera_params[camera_indices])\n",
    "    return (points_proj - points_2d).ravel()"
   ]
  },
  {
   "cell_type": "markdown",
   "metadata": {},
   "source": [
    "## A short review on Structure from Motion\n",
    "### Residual\n",
    "In our lecture, in the residual vector, we nicely wrote the elements in order: 11, 12, 13.., 1N, then 21, 22.. and so on till MN. However, notice that it is not the case here."
   ]
  },
  {
   "cell_type": "code",
   "execution_count": 21,
   "metadata": {
    "scrolled": true
   },
   "outputs": [
    {
     "name": "stdout",
     "output_type": "stream",
     "text": [
      "[[-332.65  262.09]\n",
      " [-199.76  166.7 ]\n",
      " [-253.06  202.27]\n",
      " [  58.13  271.89]\n",
      " [ 238.22  237.37]] [ 0  1  3 26 29] [0 0 0 0 0]\n"
     ]
    }
   ],
   "source": [
    "print(points_2d[:5], camera_indices[:5], point_indices[:5])"
   ]
  },
  {
   "cell_type": "markdown",
   "metadata": {},
   "source": [
    "M -> camera, N -> 3D point (in our lectures, NOT in this code)\n",
    "![sfm_residual_1.png](./misc/sfm_residual_1.png)"
   ]
  },
  {
   "cell_type": "markdown",
   "metadata": {},
   "source": [
    "You can see that computing Jacobian of `fun` is cumbersome, thus we will rely on the finite difference approximation. To make this process time feasible we provide Jacobian sparsity structure (i. e. mark elements which are known to be non-zero):"
   ]
  },
  {
   "cell_type": "markdown",
   "metadata": {},
   "source": [
    "![sfm_jac_2.png](./misc/sfm_jac_2.png)"
   ]
  },
  {
   "cell_type": "code",
   "execution_count": 22,
   "metadata": {},
   "outputs": [],
   "source": [
    "from scipy.sparse import lil_matrix"
   ]
  },
  {
   "cell_type": "code",
   "execution_count": 23,
   "metadata": {},
   "outputs": [],
   "source": [
    "def bundle_adjustment_sparsity(n_cameras, n_points, camera_indices, point_indices):\n",
    "    m = camera_indices.size * 2 \n",
    "    #TODO-for-students: Jacobian - bundle_adjustment_sparsity() function:\n",
    "    # m above is not \"M*N\" (*2) unlike our lecture notes. Why is that so?\n",
    "    \n",
    "    n = n_cameras * 9 + n_points * 3\n",
    "    #TODO-for-students: Jacobian & Parameters - bundle_adjustment_sparsity() function:\n",
    "    # 1. Why are we doing `n_cameras * 9` here instead of `n_cameras * 12`?  Recollect :Every\n",
    "    # individual motion Jacobian was (1*)12 in our lecture notes.\n",
    "    # 2. Ignoring the scale parameters, what was the number of unknown parameters\n",
    "    # in our lecture notes in terms of `n_cameras` and `n_points`? What is it here in \n",
    "    # the code? Is it different? If so, what is and why? Link of notes : https://www.notion.so/saishubodh/Stereo-Structure-from-Motion-9fdd81e4194f4803ac9ba7552df56470#6208437ceaaa47f49cfa0ad736de982a\n",
    "        \n",
    "    A = lil_matrix((m, n), dtype=int)\n",
    "\n",
    "#     camera_indices = np.sort(camera_indices)\n",
    "#     point_indices = np.sort(point_indices)\n",
    "    \n",
    "    i = np.arange(camera_indices.size)\n",
    "    for s in range(9):\n",
    "        A[2 * i, camera_indices * 9 + s] = 1\n",
    "        A[2 * i + 1, camera_indices * 9 + s] = 1\n",
    "\n",
    "    for s in range(3):\n",
    "        A[2 * i, n_cameras * 9 + point_indices * 3 + s] = 1\n",
    "        A[2 * i + 1, n_cameras * 9 + point_indices * 3 + s] = 1\n",
    "    \n",
    "    # TODO-for-students: Sparsity, Residual Vector & Jacobian - bundle_adjustment_sparsity() function:\n",
    "    # Explain what you understand from above 6 lines of code by coding a \n",
    "    # simple toy example yourself to illustrate how it is different from what you've learnt in class.\n",
    "    # ([Coding toy example + elaborating in words]- both are compulsory.)\n",
    "        \n",
    "    return A"
   ]
  },
  {
   "cell_type": "markdown",
   "metadata": {},
   "source": [
    "### THAT'S IT! Now we are ready to use inbuilt library functions!\n",
    "Now we are ready to run optimization. Let's visualize residuals evaluated with the initial parameters."
   ]
  },
  {
   "cell_type": "code",
   "execution_count": 24,
   "metadata": {},
   "outputs": [],
   "source": [
    "%matplotlib inline\n",
    "import matplotlib.pyplot as plt"
   ]
  },
  {
   "cell_type": "code",
   "execution_count": 25,
   "metadata": {},
   "outputs": [],
   "source": [
    "x0 = np.hstack((camera_params.ravel(), points_3d.ravel()))"
   ]
  },
  {
   "cell_type": "code",
   "execution_count": 26,
   "metadata": {},
   "outputs": [],
   "source": [
    "f0 = fun(x0, n_cameras, n_points, camera_indices, point_indices, points_2d)"
   ]
  },
  {
   "cell_type": "code",
   "execution_count": 27,
   "metadata": {},
   "outputs": [
    {
     "data": {
      "text/plain": [
       "[<matplotlib.lines.Line2D at 0x7faba5637c18>]"
      ]
     },
     "execution_count": 27,
     "metadata": {},
     "output_type": "execute_result"
    },
    {
     "data": {
      "image/png": "[encoded data removed]",
      "text/plain": [
       "<Figure size 432x288 with 1 Axes>"
      ]
     },
     "metadata": {
      "needs_background": "light"
     },
     "output_type": "display_data"
    }
   ],
   "source": [
    "plt.plot(f0)"
   ]
  },
  {
   "cell_type": "code",
   "execution_count": 28,
   "metadata": {},
   "outputs": [
    {
     "name": "stdout",
     "output_type": "stream",
     "text": [
      "(63686, 23769) 49 7776\n"
     ]
    }
   ],
   "source": [
    "A = bundle_adjustment_sparsity(n_cameras, n_points, camera_indices, point_indices)\n",
    "print(A.shape, n_cameras, n_points)"
   ]
  },
  {
   "cell_type": "code",
   "execution_count": 51,
   "metadata": {},
   "outputs": [
    {
     "name": "stdout",
     "output_type": "stream",
     "text": [
      "Camera index for each image point: [0 0 0 1 1 1 2 2 2]\n",
      "3D World point index for each image point: [0 1 2 0 1 2 0 1 2]\n",
      "Jacobian matrix:\n",
      "\n",
      " [[1 1 1 1 1 1 1 1 1 0 0 0 0 0 0 0 0 0 0 0 0 0 0 0 0 0 0 1 1 1 0 0 0 0 0 0]\n",
      " [1 1 1 1 1 1 1 1 1 0 0 0 0 0 0 0 0 0 0 0 0 0 0 0 0 0 0 1 1 1 0 0 0 0 0 0]\n",
      " [1 1 1 1 1 1 1 1 1 0 0 0 0 0 0 0 0 0 0 0 0 0 0 0 0 0 0 0 0 0 1 1 1 0 0 0]\n",
      " [1 1 1 1 1 1 1 1 1 0 0 0 0 0 0 0 0 0 0 0 0 0 0 0 0 0 0 0 0 0 1 1 1 0 0 0]\n",
      " [1 1 1 1 1 1 1 1 1 0 0 0 0 0 0 0 0 0 0 0 0 0 0 0 0 0 0 0 0 0 0 0 0 1 1 1]\n",
      " [1 1 1 1 1 1 1 1 1 0 0 0 0 0 0 0 0 0 0 0 0 0 0 0 0 0 0 0 0 0 0 0 0 1 1 1]\n",
      " [0 0 0 0 0 0 0 0 0 1 1 1 1 1 1 1 1 1 0 0 0 0 0 0 0 0 0 1 1 1 0 0 0 0 0 0]\n",
      " [0 0 0 0 0 0 0 0 0 1 1 1 1 1 1 1 1 1 0 0 0 0 0 0 0 0 0 1 1 1 0 0 0 0 0 0]\n",
      " [0 0 0 0 0 0 0 0 0 1 1 1 1 1 1 1 1 1 0 0 0 0 0 0 0 0 0 0 0 0 1 1 1 0 0 0]\n",
      " [0 0 0 0 0 0 0 0 0 1 1 1 1 1 1 1 1 1 0 0 0 0 0 0 0 0 0 0 0 0 1 1 1 0 0 0]\n",
      " [0 0 0 0 0 0 0 0 0 1 1 1 1 1 1 1 1 1 0 0 0 0 0 0 0 0 0 0 0 0 0 0 0 1 1 1]\n",
      " [0 0 0 0 0 0 0 0 0 1 1 1 1 1 1 1 1 1 0 0 0 0 0 0 0 0 0 0 0 0 0 0 0 1 1 1]\n",
      " [0 0 0 0 0 0 0 0 0 0 0 0 0 0 0 0 0 0 1 1 1 1 1 1 1 1 1 1 1 1 0 0 0 0 0 0]\n",
      " [0 0 0 0 0 0 0 0 0 0 0 0 0 0 0 0 0 0 1 1 1 1 1 1 1 1 1 1 1 1 0 0 0 0 0 0]\n",
      " [0 0 0 0 0 0 0 0 0 0 0 0 0 0 0 0 0 0 1 1 1 1 1 1 1 1 1 0 0 0 1 1 1 0 0 0]\n",
      " [0 0 0 0 0 0 0 0 0 0 0 0 0 0 0 0 0 0 1 1 1 1 1 1 1 1 1 0 0 0 1 1 1 0 0 0]\n",
      " [0 0 0 0 0 0 0 0 0 0 0 0 0 0 0 0 0 0 1 1 1 1 1 1 1 1 1 0 0 0 0 0 0 1 1 1]\n",
      " [0 0 0 0 0 0 0 0 0 0 0 0 0 0 0 0 0 0 1 1 1 1 1 1 1 1 1 0 0 0 0 0 0 1 1 1]]\n"
     ]
    }
   ],
   "source": [
    "import sys\n",
    "\n",
    "n_points = 3\n",
    "n_cameras = 3\n",
    "\n",
    "np.set_printoptions(threshold=sys.maxsize)\n",
    "\n",
    "camera_indices = np.array([j for j in range(n_cameras) for i in range(n_points) ])\n",
    "print(\"Camera index for each image point:\", camera_indices)\n",
    "point_indices = np.array([np.arange(n_points) for i in range(n_cameras)]).flatten()\n",
    "print(\"3D World point index for each image point:\", point_indices)\n",
    "\n",
    "A = bundle_adjustment_sparsity(n_cameras, n_points, camera_indices, point_indices)\n",
    "print(\"Jacobian matrix:\\n\\n\", A.toarray())"
   ]
  },
  {
   "cell_type": "code",
   "execution_count": 22,
   "metadata": {},
   "outputs": [],
   "source": [
    "import time\n",
    "from scipy.optimize import least_squares"
   ]
  },
  {
   "cell_type": "code",
   "execution_count": 23,
   "metadata": {
    "scrolled": true
   },
   "outputs": [
    {
     "name": "stdout",
     "output_type": "stream",
     "text": [
      "   Iteration     Total nfev        Cost      Cost reduction    Step norm     Optimality   \n",
      "       0              1         2.3933e+08                                    2.20e+10    \n",
      "       1              4         1.2194e+08      1.17e+08       1.02e+02       2.24e+08    \n",
      "       2              6         7.8469e+07      4.35e+07       1.80e+02       1.31e+08    \n",
      "       3              7         3.4265e+07      4.42e+07       3.14e+02       3.13e+07    \n",
      "       4              8         1.0431e+07      2.38e+07       5.10e+02       4.70e+06    \n",
      "       5             10         5.8865e+06      4.54e+06       2.46e+02       2.61e+06    \n",
      "       6             11         2.5809e+06      3.31e+06       4.35e+02       4.43e+06    \n",
      "       7             13         1.2653e+06      1.32e+06       1.42e+02       3.79e+06    \n",
      "       8             14         6.5502e+05      6.10e+05       1.76e+02       9.26e+05    \n",
      "       9             15         5.2327e+05      1.32e+05       4.94e+02       4.70e+06    \n",
      "      10             16         2.4998e+05      2.73e+05       3.55e+02       1.92e+06    \n",
      "      11             18         1.7551e+05      7.45e+04       1.94e+02       4.13e+05    \n",
      "      12             19         1.3676e+05      3.88e+04       3.60e+02       1.10e+06    \n",
      "      13             20         1.0107e+05      3.57e+04       3.21e+02       1.30e+06    \n",
      "      14             21         6.1752e+04      3.93e+04       2.71e+02       1.15e+06    \n",
      "      15             22         1.8697e+04      4.31e+04       9.36e+01       4.91e+05    \n",
      "      16             24         1.5839e+04      2.86e+03       9.06e+01       1.89e+05    \n",
      "      17             26         1.5143e+04      6.96e+02       5.00e+01       1.34e+05    \n",
      "      18             27         1.4260e+04      8.83e+02       9.33e+01       1.34e+05    \n",
      "      19             29         1.4007e+04      2.53e+02       4.78e+01       8.60e+04    \n",
      "      20             30         1.3794e+04      2.13e+02       8.53e+01       1.39e+06    \n",
      "      21             31         1.3532e+04      2.62e+02       6.05e+01       1.54e+05    \n",
      "      22             33         1.3516e+04      1.53e+01       2.89e+01       3.43e+04    \n",
      "      23             34         1.3504e+04      1.24e+01       6.54e+01       4.24e+05    \n",
      "      24             36         1.3494e+04      9.73e+00       3.41e+01       8.48e+04    \n",
      "      25             37         1.3485e+04      9.66e+00       7.44e+01       3.50e+05    \n",
      "      26             39         1.3478e+04      6.48e+00       3.86e+01       6.57e+04    \n",
      "      27             40         1.3470e+04      8.29e+00       8.06e+01       2.48e+05    \n",
      "      28             41         1.3463e+04      6.84e+00       1.67e+02       1.03e+06    \n",
      "      29             42         1.3447e+04      1.58e+01       1.54e+02       1.31e+05    \n",
      "      30             43         1.3443e+04      3.70e+00       2.45e+01       7.62e+04    \n",
      "      31             44         1.3441e+04      2.06e+00       4.92e+01       7.54e+04    \n",
      "      32             45         1.3440e+04      1.78e+00       1.84e+01       5.03e+04    \n",
      "      33             46         1.3438e+04      1.36e+00       3.37e+01       3.98e+04    \n",
      "      34             47         1.3437e+04      1.28e+00       1.73e+01       4.42e+04    \n",
      "`ftol` termination condition is satisfied.\n",
      "Function evaluations 47, initial cost 2.3933e+08, final cost 1.3437e+04, first-order optimality 4.42e+04.\n"
     ]
    }
   ],
   "source": [
    "t0 = time.time()\n",
    "# So far: method='lm'\n",
    "res = least_squares(fun, x0, jac_sparsity=A, verbose=2, x_scale='jac', ftol=1e-4, method='trf',\n",
    "                    args=(n_cameras, n_points, camera_indices, point_indices, points_2d))\n",
    "t1 = time.time()"
   ]
  },
  {
   "cell_type": "markdown",
   "metadata": {},
   "source": [
    "Setting `scaling='jac'` was done to automatically scale the variables and equalize their influence on the cost function (clearly the camera parameters and coordinates of the points are very different entities). This option turned out to be crucial for successfull bundle adjustment."
   ]
  },
  {
   "cell_type": "code",
   "execution_count": 35,
   "metadata": {},
   "outputs": [
    {
     "name": "stdout",
     "output_type": "stream",
     "text": [
      "Optimization took 27 seconds\n"
     ]
    }
   ],
   "source": [
    "print(\"Optimization took {0:.0f} seconds\".format(t1 - t0))"
   ]
  },
  {
   "cell_type": "markdown",
   "metadata": {},
   "source": [
    "Now let's plot residuals at the found solution:"
   ]
  },
  {
   "cell_type": "code",
   "execution_count": 36,
   "metadata": {},
   "outputs": [
    {
     "data": {
      "text/plain": [
       "[<matplotlib.lines.Line2D at 0x7f5ffd261bd0>]"
      ]
     },
     "execution_count": 36,
     "metadata": {},
     "output_type": "execute_result"
    },
    {
     "data": {
      "image/png": "[encoded data removed]",
      "text/plain": [
       "<Figure size 432x288 with 1 Axes>"
      ]
     },
     "metadata": {
      "needs_background": "light"
     },
     "output_type": "display_data"
    }
   ],
   "source": [
    "plt.plot(res.fun)"
   ]
  },
  {
   "cell_type": "markdown",
   "metadata": {},
   "source": [
    "We see much better picture of residuals now, with the mean being very close to zero. There are some spikes left. It can be explained by outliers in the data, or, possibly, the algorithm found a local minimum (very good one though) or didn't converged enough. Note that the algorithm worked with Jacobian finite difference aproximate, which can potentially block the progress near the minimum because of insufficient accuracy (but again, computing exact Jacobian for this problem is quite difficult)."
   ]
  },
  {
   "cell_type": "markdown",
   "metadata": {},
   "source": [
    "### Project 2- Part B: Submission details -\n",
    "You are supposed to gain understanding by playing around with the code above and submit your answers to questions asked below. You shouldn't submit this whole notebook, just copy the following cells (starting next cell up until the end of this notebook) and paste it at the end of your Project 2 notebook (already shared on GitHub classrooms, [link](https://github.com/AryanSakaria/Project_2/blob/main/Project_2.ipynb))."
   ]
  },
  {
   "cell_type": "markdown",
   "metadata": {},
   "source": [
    "# Project 2 - Part B:\n",
    "\n",
    "## 1. SfM pipeline (`6 mark`)\n",
    "\n",
    "To get the context of below questions, take a look at the code above: The same questions have been asked at different places above as comments in the code.\n",
    "\n",
    "1. `0.5 mark` **Basics** - How do we know this (`camera_ind`) information in practical setting? In other words, how do we know observations in `points_2d` belong to which camera. Explain. \n",
    "    - Ans-1 - Basics:\n",
    "    In a practical setting, we can associate each picture with a camera pose. Hence, there is a pair correspondence for picture and camera pose. Since the points stored in `points_2d` come from the image, we can extend this correspondence to the image coordinates.\n",
    "    \n",
    "    \n",
    "2. `0.5 mark` **Basics** - How do we know this (`point_ind`) information in practical setting?  In other words, how do we know observations in `points_2d` belong to which 3D point. Explain.\n",
    "    - Ans-2 - Basics: \n",
    "    We typically initialize the 3D point cloud using triangulation from a pair of images. Hence, for every 3D point, we have a pair of 2D points. Since we have a mapping from image -> 2D points (just a filtering operation on `camera_ind`, we can easily find the point indices for these points. We can then use the relevant points to estimate the relative transformation and perform triangulation. Since there are multiple image points (across various views) that can correspond to the same 3D point, we can store an array of image points per 3D point. Now, creating the array `points_2d` is a simple operation of ordering all 3D points, and iterating through their corresponding array values to assign that 3D point index to the particular 2D point.\n",
    "    \n",
    "    \n",
    "3. `0.5 mark` **Transformations** - `project()` function: In the `project()` function, would it make any difference if I do translate first, then rotate? Why/why not?\n",
    "    - Ans-3 - Transformations: If we do a translation first, our transformation will look like: $R(X + t) = RX + Rt$. Hence our translation vector is no longer independent and is coupled with our rotation matrix. This is in violation of the assumptions made in the other parts of the code, such as the Jacobian formulation which assumes a rotation first model.\n",
    "        \n",
    "        \n",
    "4. `0.5 mark` **Jacobian** - `bundle_adjustment_sparsity()` function: m above is not \"M*N\" (*2) unlike our lecture notes. Why is that so?\n",
    "    - Ans-4 - Jacobian: M\\*N is the upper bound on the number of points for M 3D points from N views. In practice, we may not capture all M objects/real world points from each view. Hence, our actual value of `n_observation` is lower than M\\*N.\n",
    "    \n",
    "    \n",
    "5. `2 mark` **Jacobian & Parameters** - `bundle_adjustment_sparsity()` function: \n",
    "    1.  Why are we doing `n_cameras * 9` here instead of `n_cameras * 12`? Recollect: Every individual motion Jacobian was (1*)12 in our lecture notes. \n",
    "        - Ans 5.1 - Jacobian & Parameters: Here the parameters we are optimizing are the translation vector (3 params), rotation vector (3 params using axis-angle representation), focal length (1 param), and distortion (2 parameters). In total, we have 9 paramaters for each camera here.\n",
    "   \n",
    "    2. Ignoring the scale parameters, what was the number of unknown parameters in our lecture notes in terms of `n_cameras` and `n_points`? What is it here in the code? Is it different? If so, what is and why? [Link of notes](https://www.notion.so/Stereo-Structure-from-Motion-9fdd81e4194f4803ac9ba7552df56470).\n",
    "        - Ans 5.2 - Jacobian & Parameters: As per the lecture, the number of unknown parameters are `(n_cameras * 12) + (n_points * 3)`. Here we have `n_camera` views which are represented by $3\\times 4$ projection matrices. This projection matrix is equivalent to $K[R|t] = P$. Hence, there are 12 parameters in total. In the code, we have `(n_cameras * 9) + (n_points * 3)` - reasoning in the previous answer. In the code we are not solving for P directly, but rather $t$, $R$, and components of $K$.\n",
    "       \n",
    "            \n",
    "            \n",
    "6. `2 mark` **Sparsity, Residual Vector & Jacobian** - `bundle_adjustment_sparsity()` function: Explain what you understand from above 6 lines of code by coding a simple toy example yourself to illustrate how it is different from what you've learnt in class. ([Coding toy example + elaborating in words]- both are compulsory.)\n",
    "    - Ans 6 - Sparsity, Residual Vector & Jacobian: We can understand the structure of the jacobian and hence the 6 lines of codes with the following:\n",
    "    \n",
    "    1. The Jacobian is being computed with respect to 9 motion parameters, and 3 structure parameters. These are laid out as the columns of the jacobian.\n",
    "    2. Since we have `n_cameras`, there are `n_cameras*9` columns for motion. Further, for `n_points`, there are `n_points*3` columns for structure.\n",
    "    3. Just as with the lecture notes, the first set of columns correspond to motion, and the latter part is for structure. Hence, to index the columns of jacobian, we move to the corresponding camera by `camera_ind * 9` and to the corresponding point by `camera_ind * 9 + points_ind * 3`. Once we have reached the corresponding section, we update the `for` loop updates the individual elements of the projection and 3D world point.\n",
    "    4. The rows of the jacobian correspond to each point that we have observed (we have `n_points`). Since each point has an $x$ and $y$ coordinate, we have 2 rows for each image point. We use even rows for $x$ and odd rows for $y$, hence the `2*i` and `2*i + 1` indexing for the rows of the jacobian.\n",
    "       \n",
    "       The previous answers have already explained the intuition for 9 motion and 3 structure points. That difference between the lecture and code is reflected in our Jacobian formulation as well. The construction of the Jacobian is very similar to the illustration in the notes as well, and we show this with an example.\n",
    "       \n",
    "Let us take a set of 3 world points, captured through 3 cameras. Hence, we have a set of 3\\*3 image points. We generate the `camera_indices` and `point_indices`using this information and maintain an ordering like in class along the rows, we group all camera views together, and consider the points in order. We explore this in more detail after the code block.\n",
    "    \n",
    "<code>\n",
    "    \n",
    "import sys\n",
    "\n",
    "n_points = 3\n",
    "n_cameras = 3\n",
    "\n",
    "np.set_printoptions(threshold=sys.maxsize)\n",
    "\n",
    "camera_indices = np.array([j for j in range(n_cameras) for i in range(n_points) ])\n",
    "print(\"Camera index for each image point:\", camera_indices)\n",
    "point_indices = np.array([np.arange(n_points) for i in range(n_cameras)]).flatten()\n",
    "print(\"3D World point index for each image point:\", point_indices)\n",
    "\n",
    "A = bundle_adjustment_sparsity(n_cameras, n_points, camera_indices, point_indices)\n",
    "print(\"Jacobian matrix:\\n\\n\", A.toarray())\n",
    "    \n",
    "</code>\n",
    "\n",
    "Our output looks like:\n",
    "\n",
    "<pre>\n",
    "Camera index for each image point: [0 0 0 1 1 1 2 2 2]\n",
    "3D World point index for each image point: [0 1 2 0 1 2 0 1 2]\n",
    "Jacobian matrix:\n",
    "\n",
    " [[1 1 1 1 1 1 1 1 1 0 0 0 0 0 0 0 0 0 0 0 0 0 0 0 0 0 0 1 1 1 0 0 0 0 0 0]\n",
    " [1 1 1 1 1 1 1 1 1 0 0 0 0 0 0 0 0 0 0 0 0 0 0 0 0 0 0 1 1 1 0 0 0 0 0 0]\n",
    " [1 1 1 1 1 1 1 1 1 0 0 0 0 0 0 0 0 0 0 0 0 0 0 0 0 0 0 0 0 0 1 1 1 0 0 0]\n",
    " [1 1 1 1 1 1 1 1 1 0 0 0 0 0 0 0 0 0 0 0 0 0 0 0 0 0 0 0 0 0 1 1 1 0 0 0]\n",
    " [1 1 1 1 1 1 1 1 1 0 0 0 0 0 0 0 0 0 0 0 0 0 0 0 0 0 0 0 0 0 0 0 0 1 1 1]\n",
    " [1 1 1 1 1 1 1 1 1 0 0 0 0 0 0 0 0 0 0 0 0 0 0 0 0 0 0 0 0 0 0 0 0 1 1 1]\n",
    " [0 0 0 0 0 0 0 0 0 1 1 1 1 1 1 1 1 1 0 0 0 0 0 0 0 0 0 1 1 1 0 0 0 0 0 0]\n",
    " [0 0 0 0 0 0 0 0 0 1 1 1 1 1 1 1 1 1 0 0 0 0 0 0 0 0 0 1 1 1 0 0 0 0 0 0]\n",
    " [0 0 0 0 0 0 0 0 0 1 1 1 1 1 1 1 1 1 0 0 0 0 0 0 0 0 0 0 0 0 1 1 1 0 0 0]\n",
    " [0 0 0 0 0 0 0 0 0 1 1 1 1 1 1 1 1 1 0 0 0 0 0 0 0 0 0 0 0 0 1 1 1 0 0 0]\n",
    " [0 0 0 0 0 0 0 0 0 1 1 1 1 1 1 1 1 1 0 0 0 0 0 0 0 0 0 0 0 0 0 0 0 1 1 1]\n",
    " [0 0 0 0 0 0 0 0 0 1 1 1 1 1 1 1 1 1 0 0 0 0 0 0 0 0 0 0 0 0 0 0 0 1 1 1]\n",
    " [0 0 0 0 0 0 0 0 0 0 0 0 0 0 0 0 0 0 1 1 1 1 1 1 1 1 1 1 1 1 0 0 0 0 0 0]\n",
    " [0 0 0 0 0 0 0 0 0 0 0 0 0 0 0 0 0 0 1 1 1 1 1 1 1 1 1 1 1 1 0 0 0 0 0 0]\n",
    " [0 0 0 0 0 0 0 0 0 0 0 0 0 0 0 0 0 0 1 1 1 1 1 1 1 1 1 0 0 0 1 1 1 0 0 0]\n",
    " [0 0 0 0 0 0 0 0 0 0 0 0 0 0 0 0 0 0 1 1 1 1 1 1 1 1 1 0 0 0 1 1 1 0 0 0]\n",
    " [0 0 0 0 0 0 0 0 0 0 0 0 0 0 0 0 0 0 1 1 1 1 1 1 1 1 1 0 0 0 0 0 0 1 1 1]\n",
    " [0 0 0 0 0 0 0 0 0 0 0 0 0 0 0 0 0 0 1 1 1 1 1 1 1 1 1 0 0 0 0 0 0 1 1 1]]\n",
    "</pre>\n",
    "\n",
    "As evident from the matrix seen above - this Jacobian closely resembles the one seen in class. Notice how the first two rows of the matrix can be seen as:\n",
    "\n",
    "$J_{11m_{1\\times 9}}\\; 0_{1\\times 9}\\; 0_{1\\times 9}\\; J_{11s_{1\\times 3}}\\; 0_{1\\times 3}\\; 0_{1\\times 3}$\n",
    "\n",
    "$G_{11m_{1\\times 9}}\\; 0_{1\\times 9}\\; 0_{1\\times 9}\\; G_{11s_{1\\times 3}}\\; 0_{1\\times 3}\\; 0_{1\\times 3}$\n",
    "\n",
    "These two rows correspond to the first point seen in the first camera frame. Since each point is seen in this camera frame, there are three such pair of rows. Or, there are $2*N$ rows for each camera view.\n",
    "\n",
    "Further, each point is visible in EVERY frame, hence the structure of the next $2*N$ rows are similar, but just offset by 9 columns to represent the 2nd camera.\n",
    "\n",
    "#### Difference with the previous example\n",
    "\n",
    "Unlike our toy example, each world point was not seen in each frame. Further, the ordering of the points may not be structured like ours. Hence, the jacobian will look different. Similarly, the residual may also be out of order in terms of camera indices and world points."
   ]
  },
  {
   "cell_type": "markdown",
   "metadata": {},
   "source": [
    "## 2. Initializing R,t and 3D points for SfM given 2 images (`4 mark`)\n",
    "\n",
    "Using OpenCV functions, mention how you would initialize R,t (poses) and 3D points for SfM given 2 images and K matrix. You don't need to implement it, just mention function names with input/output arguments clearly and briefly explain what they do (You don't need to give detailed answers). A sample answer could be as follows:\n",
    "\n",
    "**Ans 2:**\n",
    "\n",
    "1. First, we do feature matching using the following function\n",
    "\n",
    "    `Matcher_Object.match()`: It takes 2 descriptors of the two images as input arguments and gives us the best matches/correspondences as outputs. These outputs are passed to the next step. *The matcher object can be something like the brute-force matcher object, and must be instantiated before this function call*.\n",
    "\n",
    "2. Once we have our matches, we must extract the essential matrix using `cv.findEssentialMat` which takes the image correspondences as two separate inputs along with the camera matrix and outputs the essential matrix. The essential matrix is approximated using the five-point algorithm.\n",
    "\n",
    "3. Now that we have essential matrix, we can decompose it into R,t as following:\n",
    "\n",
    "    `Rt = cv2.recoverPose(E, pts0, pts1, K)`: This takes Essential matrix, K matrix and the corresponding points in 2 images as input arguments and gives us R,t. `Rt[1]` would give us R and `Rt[2]` would give us t.\n",
    "\n",
    "4. Now that we have the transformation between the two images, we find 3D points as follows:\n",
    "    - Calculate the projection matrix for the second image as $K[R|t]$.\n",
    "    - Call the function `cv2.triangulatePoints` with inputs $K$ and $K[R|t]$ as projection matrices of first and second camera, and the feature points obtained in step 1 as the third and fourth arguments. The function then outputs the 3D points in homogenous coordinates."
   ]
  }
 ],
 "metadata": {
  "kernelspec": {
   "display_name": "Python 3",
   "language": "python",
   "name": "python3"
  },
  "language_info": {
   "codemirror_mode": {
    "name": "ipython",
    "version": 3
   },
   "file_extension": ".py",
   "mimetype": "text/x-python",
   "name": "python",
   "nbconvert_exporter": "python",
   "pygments_lexer": "ipython3",
   "version": "3.8.5"
  }
 },
 "nbformat": 4,
 "nbformat_minor": 1
}
