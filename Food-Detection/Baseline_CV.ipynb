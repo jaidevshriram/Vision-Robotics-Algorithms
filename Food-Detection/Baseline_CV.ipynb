{
 "cells": [
  {
   "cell_type": "markdown",
   "metadata": {
    "id": "OAqF8DSw_5TL"
   },
   "source": [
    "# Getting Started Code for [Chunin Exams Food Track- CV'2021](https://www.aicrowd.com/challenges/chunin-exams-food-track-cv-2021) on AIcrowd\n",
    "#### Author : Pulkit Gera"
   ]
  },
  {
   "cell_type": "markdown",
   "metadata": {
    "id": "0H3J2MVK_5TW"
   },
   "source": [
    "## Download Necessary Packages 📚"
   ]
  },
  {
   "cell_type": "code",
   "execution_count": 1,
   "metadata": {
    "colab": {
     "base_uri": "https://localhost:8080/"
    },
    "id": "psxJC7EC_5TX",
    "outputId": "edd96c01-145c-4a28-f78f-b8ef46116403"
   },
   "outputs": [
    {
     "name": "stdout",
     "output_type": "stream",
     "text": [
      "Collecting aicrowd-cli\n",
      "  Downloading aicrowd_cli-0.1.2-py3-none-any.whl (42 kB)\n",
      "\u001b[K     |████████████████████████████████| 42 kB 119 kB/s eta 0:00:01\n",
      "\u001b[?25hRequirement already satisfied: click<8,>=7.1.2 in /home/jd/anaconda3/envs/habitat/lib/python3.8/site-packages (from aicrowd-cli) (7.1.2)\n",
      "Requirement already satisfied: gitpython<4,>=3.1.12 in /home/jd/anaconda3/envs/habitat/lib/python3.8/site-packages (from aicrowd-cli) (3.1.12)\n",
      "Collecting toml<1,>=0.10.2\n",
      "  Downloading toml-0.10.2-py2.py3-none-any.whl (16 kB)\n",
      "Collecting requests<3,>=2.25.1\n",
      "  Using cached requests-2.25.1-py2.py3-none-any.whl (61 kB)\n",
      "Collecting rich<11,>=10.0.0\n",
      "  Downloading rich-10.1.0-py3-none-any.whl (201 kB)\n",
      "\u001b[K     |████████████████████████████████| 201 kB 1.1 MB/s eta 0:00:01\n",
      "\u001b[?25hRequirement already satisfied: tqdm<5,>=4.56.0 in /home/jd/anaconda3/envs/habitat/lib/python3.8/site-packages (from aicrowd-cli) (4.59.0)\n",
      "Requirement already satisfied: requests-toolbelt<1,>=0.9.1 in /home/jd/anaconda3/envs/habitat/lib/python3.8/site-packages (from aicrowd-cli) (0.9.1)\n",
      "Requirement already satisfied: gitdb<5,>=4.0.1 in /home/jd/anaconda3/envs/habitat/lib/python3.8/site-packages (from gitpython<4,>=3.1.12->aicrowd-cli) (4.0.5)\n",
      "Collecting smmap<4,>=3.0.1\n",
      "  Downloading smmap-3.0.5-py2.py3-none-any.whl (25 kB)\n",
      "Requirement already satisfied: chardet<5,>=3.0.2 in /home/jd/anaconda3/envs/habitat/lib/python3.8/site-packages (from requests<3,>=2.25.1->aicrowd-cli) (3.0.4)\n",
      "Requirement already satisfied: idna<3,>=2.5 in /home/jd/anaconda3/envs/habitat/lib/python3.8/site-packages (from requests<3,>=2.25.1->aicrowd-cli) (2.10)\n",
      "Requirement already satisfied: urllib3<1.27,>=1.21.1 in /home/jd/anaconda3/envs/habitat/lib/python3.8/site-packages (from requests<3,>=2.25.1->aicrowd-cli) (1.26.2)\n",
      "Requirement already satisfied: certifi>=2017.4.17 in /home/jd/anaconda3/envs/habitat/lib/python3.8/site-packages (from requests<3,>=2.25.1->aicrowd-cli) (2020.12.5)\n",
      "Requirement already satisfied: pygments<3.0.0,>=2.6.0 in /home/jd/anaconda3/envs/habitat/lib/python3.8/site-packages (from rich<11,>=10.0.0->aicrowd-cli) (2.8.0)\n",
      "Requirement already satisfied: colorama<0.5.0,>=0.4.0 in /home/jd/anaconda3/envs/habitat/lib/python3.8/site-packages (from rich<11,>=10.0.0->aicrowd-cli) (0.4.4)\n",
      "Collecting typing-extensions<4.0.0,>=3.7.4\n",
      "  Using cached typing_extensions-3.7.4.3-py3-none-any.whl (22 kB)\n",
      "Collecting commonmark<0.10.0,>=0.9.0\n",
      "  Downloading commonmark-0.9.1-py2.py3-none-any.whl (51 kB)\n",
      "\u001b[K     |████████████████████████████████| 51 kB 1.9 MB/s eta 0:00:01\n",
      "\u001b[?25hInstalling collected packages: smmap, typing-extensions, requests, commonmark, toml, rich, aicrowd-cli\n",
      "  Attempting uninstall: smmap\n",
      "    Found existing installation: smmap 4.0.0\n",
      "    Uninstalling smmap-4.0.0:\n",
      "      Successfully uninstalled smmap-4.0.0\n",
      "  Attempting uninstall: requests\n",
      "    Found existing installation: requests 2.25.0\n",
      "    Uninstalling requests-2.25.0:\n",
      "      Successfully uninstalled requests-2.25.0\n",
      "Successfully installed aicrowd-cli-0.1.2 commonmark-0.9.1 requests-2.25.1 rich-10.1.0 smmap-3.0.5 toml-0.10.2 typing-extensions-3.7.4.3\n"
     ]
    }
   ],
   "source": [
    "!pip install aicrowd-cli"
   ]
  },
  {
   "cell_type": "markdown",
   "metadata": {
    "id": "D5L6NxEe_5TZ"
   },
   "source": [
    "## Download Data\n",
    "The first step is to download out train test data. We will be training a model on the train data and make predictions on test data. We submit our predictions.\n"
   ]
  },
  {
   "cell_type": "code",
   "execution_count": 2,
   "metadata": {
    "colab": {
     "base_uri": "https://localhost:8080/"
    },
    "id": "lyF9gbdx_5TZ",
    "outputId": "da27ed41-fe2a-4904-a5f0-6e8f09527a33"
   },
   "outputs": [
    {
     "name": "stdout",
     "output_type": "stream",
     "text": [
      "\u001b[32mAPI Key valid\u001b[0m\r\n",
      "\u001b[32mSaved API Key successfully!\u001b[0m\r\n"
     ]
    }
   ],
   "source": [
    "API_KEY = \"e0affdfbd450e457a0d51f0f8ea25e56\" #Please enter your API Key from [https://www.aicrowd.com/participants/me]\n",
    "!aicrowd login --api-key $API_KEY"
   ]
  },
  {
   "cell_type": "code",
   "execution_count": 3,
   "metadata": {
    "colab": {
     "base_uri": "https://localhost:8080/"
    },
    "id": "hx8pHTHZ_5Ta",
    "outputId": "ce730715-1fe5-4e54-ee15-f60ef21bf75b"
   },
   "outputs": [
    {
     "name": "stdout",
     "output_type": "stream",
     "text": [
      "test.csv: 100%|█████████████████████████████| 7.27k/7.27k [00:00<00:00, 984kB/s]\n",
      "train.csv:   0%|                                     | 0.00/253k [00:00<?, ?B/s]\n",
      "train.csv: 100%|██████████████████████████████| 253k/253k [00:01<00:00, 222kB/s]\u001b[A\n",
      "train_images.zip:   0%|                              | 0.00/754M [00:00<?, ?B/s]\n",
      "train_images.zip:   0%|                      | 1.05M/754M [00:04<51:32, 244kB/s]\u001b[A\n",
      "train_images.zip:   0%|                      | 2.10M/754M [00:08<51:13, 245kB/s]\u001b[A\n",
      "train_images.zip:   0%|                      | 3.15M/754M [00:12<51:05, 245kB/s]\u001b[A\n",
      "train_images.zip:   1%|                      | 4.19M/754M [00:17<51:04, 245kB/s]\u001b[A\n",
      "train_images.zip:   1%|▏                     | 5.24M/754M [00:21<52:40, 237kB/s]\u001b[A\n",
      "train_images.zip:   1%|▏                     | 6.29M/754M [00:26<52:12, 239kB/s]\u001b[A\n",
      "train_images.zip:   1%|▏                     | 7.34M/754M [00:30<51:45, 241kB/s]\u001b[A\n",
      "train_images.zip:   1%|▏                     | 8.39M/754M [00:34<51:19, 242kB/s]\u001b[A\n",
      "train_images.zip:   1%|▎                     | 9.44M/754M [00:38<50:44, 245kB/s]\u001b[A\n",
      "train_images.zip:   1%|▎                     | 10.5M/754M [00:43<50:44, 244kB/s]\u001b[A\n",
      "train_images.zip:   2%|▎                     | 11.5M/754M [00:47<52:01, 238kB/s]\u001b[A\n",
      "train_images.zip:   2%|▎                     | 12.6M/754M [00:52<51:39, 239kB/s]\u001b[A\n",
      "train_images.zip:   2%|▍                     | 13.6M/754M [00:56<51:02, 242kB/s]\u001b[A\n",
      "train_images.zip:   2%|▍                     | 14.7M/754M [01:01<52:19, 236kB/s]\u001b[A\n",
      "train_images.zip:   2%|▍                     | 15.7M/754M [01:05<51:43, 238kB/s]\u001b[A\n",
      "train_images.zip:   2%|▍                     | 16.8M/754M [01:09<51:12, 240kB/s]\u001b[A\n",
      "train_images.zip:   2%|▌                     | 17.8M/754M [01:14<52:22, 234kB/s]\u001b[A\n",
      "train_images.zip:   3%|▌                     | 18.9M/754M [01:18<51:32, 238kB/s]\u001b[A\n",
      "train_images.zip:   3%|▌                     | 19.9M/754M [01:22<51:04, 240kB/s]\u001b[A\n",
      "train_images.zip:   3%|▌                     | 21.0M/754M [01:27<52:22, 233kB/s]\u001b[A\n",
      "train_images.zip:   3%|▋                     | 22.0M/754M [01:32<51:37, 236kB/s]\u001b[A\n",
      "train_images.zip:   3%|▋                     | 23.1M/754M [01:36<51:01, 239kB/s]\u001b[A\n",
      "train_images.zip:   3%|▋                     | 24.1M/754M [01:41<51:58, 234kB/s]\u001b[A\n",
      "train_images.zip:   3%|▋                     | 25.2M/754M [01:45<51:32, 236kB/s]\u001b[A\n",
      "train_images.zip:   3%|▊                     | 26.2M/754M [01:50<52:30, 231kB/s]\u001b[A\n",
      "train_images.zip:   4%|▊                     | 27.3M/754M [01:54<51:29, 235kB/s]\u001b[A\n",
      "train_images.zip:   4%|▊                     | 28.3M/754M [01:58<50:36, 239kB/s]\u001b[A\n",
      "test_images.zip:  87%|███████████████████   | 29.4M/33.9M [01:59<00:18, 248kB/s]\u001b[A\n",
      "train_images.zip:   4%|▊                     | 29.4M/754M [02:03<51:41, 234kB/s]\u001b[A\n",
      "train_images.zip:   4%|▉                     | 31.5M/754M [02:11<50:25, 239kB/s]\u001b[A\n",
      "test_images.zip:  96%|█████████████████████ | 32.5M/33.9M [02:12<00:05, 243kB/s]\u001b[A\n",
      "train_images.zip:   4%|▉                     | 32.5M/754M [02:16<49:51, 241kB/s]\u001b[A\n",
      "test_images.zip: 100%|██████████████████████| 33.9M/33.9M [02:18<00:00, 245kB/s]\u001b[A\n",
      "train_images.zip: 100%|███████████████████████| 754M/754M [53:12<00:00, 236kB/s]\n"
     ]
    }
   ],
   "source": [
    "!aicrowd dataset download --challenge chunin-exams-food-track-cv-2021"
   ]
  },
  {
   "cell_type": "code",
   "execution_count": 5,
   "metadata": {
    "id": "8NwyXyca_5Ta"
   },
   "outputs": [],
   "source": [
    "!rm -rf data\n",
    "!mkdir data"
   ]
  },
  {
   "cell_type": "markdown",
   "metadata": {
    "id": "5IX79Ffa_5Te"
   },
   "source": [
    "## Making Direct Submission thought Aicrowd CLI"
   ]
  },
  {
   "cell_type": "code",
   "execution_count": null,
   "metadata": {
    "colab": {
     "base_uri": "https://localhost:8080/"
    },
    "id": "-j1W9w4t_5Te",
    "outputId": "c0a9a039-1f79-49f6-9e87-7d7bc8ddc2e2"
   },
   "outputs": [
    {
     "name": "stdout",
     "output_type": "stream",
     "text": [
      "\u001b[2K\u001b[1;34msubmission.csv\u001b[0m \u001b[90m━━━━━━━━━━━━━━━━━━━━━━\u001b[0m \u001b[35m100.0%\u001b[0m • \u001b[32m13.1/11.5 KB\u001b[0m • \u001b[31m1.4 MB/s\u001b[0m • \u001b[36m0:00:00\u001b[0m\n",
      "\u001b[?25h                                                 ╭─────────────────────────╮                                                  \n",
      "                                                 │ \u001b[1mSuccessfully submitted!\u001b[0m │                                                  \n",
      "                                                 ╰─────────────────────────╯                                                  \n",
      "\u001b[3m                                                       Important links                                                        \u001b[0m\n",
      "┌──────────────────┬─────────────────────────────────────────────────────────────────────────────────────────────────────────┐\n",
      "│  This submission │ https://www.aicrowd.com/challenges/ai-blitz-7/problems/stage-prediction/submissions/125933              │\n",
      "│                  │                                                                                                         │\n",
      "│  All submissions │ https://www.aicrowd.com/challenges/ai-blitz-7/problems/stage-prediction/submissions?my_submissions=true │\n",
      "│                  │                                                                                                         │\n",
      "│      Leaderboard │ https://www.aicrowd.com/challenges/ai-blitz-7/problems/stage-prediction/leaderboards                    │\n",
      "│                  │                                                                                                         │\n",
      "│ Discussion forum │ https://discourse.aicrowd.com/c/ai-blitz-7                                                              │\n",
      "│                  │                                                                                                         │\n",
      "│   Challenge page │ https://www.aicrowd.com/challenges/ai-blitz-7/problems/stage-prediction                                 │\n",
      "└──────────────────┴─────────────────────────────────────────────────────────────────────────────────────────────────────────┘\n",
      "{'submission_id': 125933, 'created_at': '2021-03-12T14:32:25.301Z'}\n"
     ]
    }
   ],
   "source": [
    "!aicrowd submission create -c chunin-exams-food-track-cv-2021 -f submission.csv"
   ]
  }
 ],
 "metadata": {
  "colab": {
   "collapsed_sections": [],
   "name": "Baseline CV",
   "provenance": [],
   "toc_visible": true
  },
  "kernelspec": {
   "display_name": "Python 3",
   "language": "python",
   "name": "python3"
  },
  "language_info": {
   "codemirror_mode": {
    "name": "ipython",
    "version": 3
   },
   "file_extension": ".py",
   "mimetype": "text/x-python",
   "name": "python",
   "nbconvert_exporter": "python",
   "pygments_lexer": "ipython3",
   "version": "3.8.5"
  }
 },
 "nbformat": 4,
 "nbformat_minor": 1
}
