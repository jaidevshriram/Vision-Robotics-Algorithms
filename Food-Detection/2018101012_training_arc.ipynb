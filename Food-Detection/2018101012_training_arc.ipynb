{
 "cells": [
  {
   "cell_type": "markdown",
   "id": "thirty-shannon",
   "metadata": {},
   "source": [
    "# Assignment-5\n",
    "\n",
    "Jaidev Shriram"
   ]
  },
  {
   "cell_type": "markdown",
   "id": "tough-remark",
   "metadata": {},
   "source": [
    "To train the network, use the script train.py instead."
   ]
  },
  {
   "cell_type": "code",
   "execution_count": null,
   "id": "funny-cleaner",
   "metadata": {},
   "outputs": [],
   "source": [
    "import os\n",
    "import wandb\n",
    "import torch\n",
    "import torch.nn as nn\n",
    "import torchvision.transforms as T\n",
    "import numpy as np\n",
    "import pytorch_lightning as pl\n",
    "\n",
    "from pytorch_lightning.callbacks import ModelCheckpoint, LearningRateMonitor\n",
    "\n",
    "from torch.utils.data import DataLoader\n",
    "\n",
    "from dataset import FoodDataset\n",
    "from model import FoodClassifier\n",
    "\n",
    "from tqdm.contrib import tenumerate\n",
    "\n",
    "from pytorch_lightning.loggers import WandbLogger\n",
    "from pytorch_lightning import seed_everything"
   ]
  },
  {
   "cell_type": "code",
   "execution_count": null,
   "id": "express-biography",
   "metadata": {},
   "outputs": [],
   "source": [
    "name = \"test\"\n",
    "img_dir = \"./data/train_images/\"\n",
    "num_workers = 10"
   ]
  },
  {
   "cell_type": "code",
   "execution_count": null,
   "id": "following-liquid",
   "metadata": {},
   "outputs": [],
   "source": [
    "seed_everything(148)\n",
    "\n",
    "device = torch.device('cuda') if torch.cuda.is_available() else torch.device('cpu')"
   ]
  },
  {
   "cell_type": "code",
   "execution_count": null,
   "id": "faced-lighter",
   "metadata": {},
   "outputs": [],
   "source": [
    "transform = T.Compose([\n",
    "#            T.RandomHorizontalFlip(),\n",
    "#            T.ColorJitter(0.1, 0.1, 0.1, 0.1),\n",
    "            T.ToTensor(),\n",
    "            T.Normalize((0.5, 0.5, 0.5), (0.5, 0.5, 0.5)),\n",
    "        ])\n",
    "\n",
    "train_dataset = FoodDataset(image_dir=img_dir, train_csv=\"train.csv\", transforms=transform)\n",
    "val_dataset = FoodDataset(image_dir=img_dir, train_csv=\"val.csv\", transforms=transform)\n",
    "\n",
    "train_loader = DataLoader(train_dataset, batch_size=batch_size, shuffle=True, pin_memory=True, num_workers=num_workers)\n",
    "val_loader = DataLoader(val_dataset, batch_size=1, shuffle=False, pin_memory=True, num_workers=num_workers)"
   ]
  },
  {
   "cell_type": "code",
   "execution_count": null,
   "id": "assured-score",
   "metadata": {},
   "outputs": [],
   "source": [
    "model = FoodClassifier().to(device)\n",
    "wandb_logger = WandbLogger(name=name, log_model=True)\n",
    "wandb_logger.watch(model, log='all')\n",
    "\n",
    "checkpoint_callback = ModelCheckpoint(\n",
    "    monitor='val_acc',\n",
    "    filename='food-{epoch:02d}-{val_acc:.2f}',\n",
    "    save_top_k=3,\n",
    "    mode='max',\n",
    ")\n",
    "\n",
    "lr_monitor = LearningRateMonitor(logging_interval='step')\n",
    "\n",
    "trainer = pl.Trainer(gpus=1, logger=wandb_logger, log_every_n_steps=1,\n",
    "        callbacks=[checkpoint_callback, lr_monitor], check_val_every_n_epoch=3, max_epochs=30)\n",
    "trainer.fit(model, train_loader, val_loader)"
   ]
  }
 ],
 "metadata": {
  "kernelspec": {
   "display_name": "Python 3",
   "language": "python",
   "name": "python3"
  },
  "language_info": {
   "codemirror_mode": {
    "name": "ipython",
    "version": 3
   },
   "file_extension": ".py",
   "mimetype": "text/x-python",
   "name": "python",
   "nbconvert_exporter": "python",
   "pygments_lexer": "ipython3",
   "version": "3.8.5"
  }
 },
 "nbformat": 4,
 "nbformat_minor": 5
}
