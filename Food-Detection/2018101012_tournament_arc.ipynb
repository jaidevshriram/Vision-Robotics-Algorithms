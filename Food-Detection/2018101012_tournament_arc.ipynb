{
 "cells": [
  {
   "cell_type": "markdown",
   "id": "spiritual-ambassador",
   "metadata": {},
   "source": [
    "# Assignment 5: Tournament Arc\n",
    "\n",
    "Jaidev Shriram (201810102)"
   ]
  },
  {
   "cell_type": "markdown",
   "id": "virgin-shareware",
   "metadata": {},
   "source": [
    "To train the network, use the script train.py instead."
   ]
  },
  {
   "cell_type": "code",
   "execution_count": null,
   "id": "manual-technician",
   "metadata": {},
   "outputs": [],
   "source": [
    "import os\n",
    "import wandb\n",
    "import torch\n",
    "import torch.nn as nn\n",
    "import torchvision.transforms as T\n",
    "import numpy as np\n",
    "import pytorch_lightning as pl\n",
    "\n",
    "from pytorch_lightning.callbacks import ModelCheckpoint\n",
    "\n",
    "from torch.utils.data import DataLoader\n",
    "from torch.utils.data.sampler import WeightedRandomSampler"
   ]
  },
  {
   "cell_type": "code",
   "execution_count": null,
   "id": "single-length",
   "metadata": {},
   "outputs": [],
   "source": [
    "from pretrained.dataset import FoodDataset\n",
    "from pretrained.model import FoodClassifierPreTrained\n",
    "\n",
    "from tqdm.contrib import tenumerate\n",
    "\n",
    "from pytorch_lightning.loggers import WandbLogger\n",
    "from pytorch_lightning import seed_everything"
   ]
  },
  {
   "cell_type": "code",
   "execution_count": null,
   "id": "quick-criticism",
   "metadata": {},
   "outputs": [],
   "source": [
    "seed_everything(148)\n",
    "\n",
    "device = torch.device('cuda') if torch.cuda.is_available() else torch.device('cpu')"
   ]
  },
  {
   "cell_type": "code",
   "execution_count": null,
   "id": "blank-mineral",
   "metadata": {},
   "outputs": [],
   "source": [
    "name = \"test\"\n",
    "img_dir = \"./data/train_images/\"\n",
    "num_workers = 10"
   ]
  },
  {
   "cell_type": "code",
   "execution_count": null,
   "id": "nonprofit-relevance",
   "metadata": {},
   "outputs": [],
   "source": [
    "train_transform = T.Compose([\n",
    "            T.RandomHorizontalFlip(),\n",
    "            T.ColorJitter(0.2, 0.2, 0.2, 0.2),\n",
    "            T.RandomPerspective(),\n",
    "            T.ToTensor(),\n",
    "            T.Normalize((0.5, 0.5, 0.5), (0.5, 0.5, 0.5)),\n",
    "            T.RandomErasing(),\n",
    "        ])\n",
    "\n",
    "val_transform = T.Compose([\n",
    "        T.ToTensor(),\n",
    "        T.Normalize((0.5, 0.5, 0.5), (0.5, 0.5, 0.5)),\n",
    "    ])\n",
    "\n",
    "\n",
    "train_dataset = FoodDataset(image_dir=img_dir, train_csv=\"./train.csv\", transforms=train_transform)\n",
    "val_dataset = FoodDataset(image_dir=img_dir, train_csv=\"./val.csv\", transforms=val_transform)\n",
    "\n",
    "_y = []\n",
    "for i in range(len(train_dataset)):\n",
    "    print(i, end=\"\\r\")\n",
    "    x, y = train_dataset[i]\n",
    "    _y.append(y)\n",
    "\n",
    "counts = np.bincount(_y)\n",
    "\n",
    "label_weights = 1. / counts\n",
    "weights = label_weights[_y]\n",
    "sampler = WeightedRandomSampler(weights, len(weights))\n",
    "\n",
    "train_loader = DataLoader(train_dataset, batch_size=batch_size, sampler=sampler, pin_memory=True, num_workers=num_workers)\n",
    "val_loader = DataLoader(val_dataset, batch_size=1, shuffle=False, pin_memory=True, num_workers=num_workers)\n",
    "\n",
    "#    model = FoodClassifierPreTrained.load_from_checkpoint(\"food-epoch=09-val_acc=0.61.ckpt\").to(device)\n",
    "\n",
    "model = FoodClassifierPreTrained().to(device)\n",
    "\n",
    "wandb_logger = WandbLogger(name=name, project='assignment-5-efficientnet', log_model=True)\n",
    "wandb_logger.watch(model, log='all')\n",
    "\n",
    "checkpoint_callback = ModelCheckpoint(\n",
    "    monitor='val_acc',\n",
    "    filename='food-{epoch:02d}-{val_acc:.2f}',\n",
    "    save_top_k=5,\n",
    "    mode='max',\n",
    ")\n",
    "\n",
    "trainer = pl.Trainer(gpus=1, logger=wandb_logger, log_every_n_steps=1,\n",
    "        callbacks=[checkpoint_callback], check_val_every_n_epoch=1, max_epochs=30)\n",
    "trainer.fit(model, train_loader, val_loader)"
   ]
  }
 ],
 "metadata": {
  "kernelspec": {
   "display_name": "Python 3",
   "language": "python",
   "name": "python3"
  },
  "language_info": {
   "codemirror_mode": {
    "name": "ipython",
    "version": 3
   },
   "file_extension": ".py",
   "mimetype": "text/x-python",
   "name": "python",
   "nbconvert_exporter": "python",
   "pygments_lexer": "ipython3",
   "version": "3.8.5"
  }
 },
 "nbformat": 4,
 "nbformat_minor": 5
}
